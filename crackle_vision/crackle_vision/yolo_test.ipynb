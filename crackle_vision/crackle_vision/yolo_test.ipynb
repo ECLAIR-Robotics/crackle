{
 "cells": [
  {
   "cell_type": "code",
   "execution_count": 2,
   "id": "f900fe51",
   "metadata": {},
   "outputs": [],
   "source": [
    "from ultralytics import YOLOE, YOLOWorld"
   ]
  },
  {
   "cell_type": "code",
   "execution_count": null,
   "id": "2a7ee015",
   "metadata": {},
   "outputs": [
    {
     "name": "stdout",
     "output_type": "stream",
     "text": [
      "Downloading https://github.com/ultralytics/assets/releases/download/v8.3.0/yoloe-11l-seg.pt to 'yoloe-11l-seg.pt'...\n"
     ]
    },
    {
     "name": "stderr",
     "output_type": "stream",
     "text": [
      "100%|██████████| 67.7M/67.7M [00:06<00:00, 11.3MB/s]\n"
     ]
    }
   ],
   "source": [
    "# Initialize a YOLOE model\n",
    "model = YOLOE(\"yoloe-11l-seg.pt\")  # or select yoloe-11s/m-seg.pt for different sizes"
   ]
  },
  {
   "cell_type": "code",
   "execution_count": 13,
   "id": "a70439bf",
   "metadata": {},
   "outputs": [
    {
     "name": "stdout",
     "output_type": "stream",
     "text": [
      "Ultralytics 8.3.106 🚀 Python-3.10.12 torch-2.6.0+cu124 CUDA:0 (NVIDIA GeForce RTX 3080 Laptop GPU, 7967MiB)\n",
      "Found https://www.shutterstock.com/image-photo/multiracial-passengers-waiting-bus-stop-260nw-2186294519.jpg locally at multiracial-passengers-waiting-bus-stop-260nw-2186294519.jpg\n",
      "\n",
      "Found https://www.shutterstock.com/image-photo/multiracial-passengers-waiting-bus-stop-260nw-2186294519.jpg locally at multiracial-passengers-waiting-bus-stop-260nw-2186294519.jpg\n",
      "image 1/1 /home/tanay24/crackle_ws/src/crackle/crackle_vision/crackle_vision/multiracial-passengers-waiting-bus-stop-260nw-2186294519.jpg: 480x640 4 personbuss, 1 bag, 17.4ms\n",
      "Speed: 1.2ms preprocess, 17.4ms inference, 1.3ms postprocess per image at shape (1, 3, 480, 640)\n"
     ]
    }
   ],
   "source": [
    "\n",
    "# Set text prompt\n",
    "names = [\"person\" \"bus\", \"hat\", \"pant\", \"bag\"]\n",
    "model.set_classes(names, model.get_text_pe(names))\n",
    "\n",
    "# Execute prediction for specified categories on an image\n",
    "results = model.predict(\"https://www.shutterstock.com/image-photo/multiracial-passengers-waiting-bus-stop-260nw-2186294519.jpg\", )\n",
    "\n",
    "# Show results\n",
    "results[0].show()"
   ]
  }
 ],
 "metadata": {
  "kernelspec": {
   "display_name": "Python 3",
   "language": "python",
   "name": "python3"
  },
  "language_info": {
   "codemirror_mode": {
    "name": "ipython",
    "version": 3
   },
   "file_extension": ".py",
   "mimetype": "text/x-python",
   "name": "python",
   "nbconvert_exporter": "python",
   "pygments_lexer": "ipython3",
   "version": "3.10.12"
  }
 },
 "nbformat": 4,
 "nbformat_minor": 5
}
